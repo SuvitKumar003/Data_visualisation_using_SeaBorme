{
  "nbformat": 4,
  "nbformat_minor": 0,
  "metadata": {
    "colab": {
      "provenance": [],
      "authorship_tag": "ABX9TyOE57h9f4UEkSPQaZEXuRgH",
      "include_colab_link": true
    },
    "kernelspec": {
      "name": "python3",
      "display_name": "Python 3"
    },
    "language_info": {
      "name": "python"
    }
  },
  "cells": [
    {
      "cell_type": "markdown",
      "metadata": {
        "id": "view-in-github",
        "colab_type": "text"
      },
      "source": [
        "<a href=\"https://colab.research.google.com/github/SuvitKumar003/Data_visualisation_using_SeaBorme/blob/main/Copy_of_trail.ipynb\" target=\"_parent\"><img src=\"https://colab.research.google.com/assets/colab-badge.svg\" alt=\"Open In Colab\"/></a>"
      ]
    },
    {
      "cell_type": "code",
      "execution_count": null,
      "metadata": {
        "colab": {
          "base_uri": "https://localhost:8080/",
          "height": 1000
        },
        "id": "ySoKv2gWUPgN",
        "outputId": "48b5c3e3-c5e4-4034-d1d2-2b13887b7716"
      },
      "outputs": [
        {
          "output_type": "stream",
          "name": "stdout",
          "text": [
            "\n",
            "Options:\n",
            "1. Add a task\n",
            "2. Display tasks\n",
            "3. Mark a task as done\n",
            "4. Clear the to-do list\n",
            "5. Exit\n",
            "Enter your choice (1/2/3/4/5): 1\n",
            "Enter a new task: doing homework\n",
            "\n",
            "Options:\n",
            "1. Add a task\n",
            "2. Display tasks\n",
            "3. Mark a task as done\n",
            "4. Clear the to-do list\n",
            "5. Exit\n",
            "Enter your choice (1/2/3/4/5): 2\n",
            "Your to-do list:\n",
            "1. [ ] doing homework\n",
            "\n",
            "Options:\n",
            "1. Add a task\n",
            "2. Display tasks\n",
            "3. Mark a task as done\n",
            "4. Clear the to-do list\n",
            "5. Exit\n",
            "Enter your choice (1/2/3/4/5): 6\n",
            "Invalid choice. Please choose a valid option (1/2/3/4/5).\n",
            "\n",
            "Options:\n",
            "1. Add a task\n",
            "2. Display tasks\n",
            "3. Mark a task as done\n",
            "4. Clear the to-do list\n",
            "5. Exit\n"
          ]
        },
        {
          "output_type": "error",
          "ename": "KeyboardInterrupt",
          "evalue": "ignored",
          "traceback": [
            "\u001b[0;31m---------------------------------------------------------------------------\u001b[0m",
            "\u001b[0;31mKeyboardInterrupt\u001b[0m                         Traceback (most recent call last)",
            "\u001b[0;32m<ipython-input-1-98088a989789>\u001b[0m in \u001b[0;36m<cell line: 33>\u001b[0;34m()\u001b[0m\n\u001b[1;32m     39\u001b[0m     \u001b[0mprint\u001b[0m\u001b[0;34m(\u001b[0m\u001b[0;34m\"5. Exit\"\u001b[0m\u001b[0;34m)\u001b[0m\u001b[0;34m\u001b[0m\u001b[0;34m\u001b[0m\u001b[0m\n\u001b[1;32m     40\u001b[0m \u001b[0;34m\u001b[0m\u001b[0m\n\u001b[0;32m---> 41\u001b[0;31m     \u001b[0mchoice\u001b[0m \u001b[0;34m=\u001b[0m \u001b[0minput\u001b[0m\u001b[0;34m(\u001b[0m\u001b[0;34m\"Enter your choice (1/2/3/4/5): \"\u001b[0m\u001b[0;34m)\u001b[0m\u001b[0;34m\u001b[0m\u001b[0;34m\u001b[0m\u001b[0m\n\u001b[0m\u001b[1;32m     42\u001b[0m \u001b[0;34m\u001b[0m\u001b[0m\n\u001b[1;32m     43\u001b[0m     \u001b[0;32mif\u001b[0m \u001b[0mchoice\u001b[0m \u001b[0;34m==\u001b[0m \u001b[0;34m\"1\"\u001b[0m\u001b[0;34m:\u001b[0m\u001b[0;34m\u001b[0m\u001b[0;34m\u001b[0m\u001b[0m\n",
            "\u001b[0;32m/usr/local/lib/python3.10/dist-packages/ipykernel/kernelbase.py\u001b[0m in \u001b[0;36mraw_input\u001b[0;34m(self, prompt)\u001b[0m\n\u001b[1;32m    849\u001b[0m                 \u001b[0;34m\"raw_input was called, but this frontend does not support input requests.\"\u001b[0m\u001b[0;34m\u001b[0m\u001b[0;34m\u001b[0m\u001b[0m\n\u001b[1;32m    850\u001b[0m             )\n\u001b[0;32m--> 851\u001b[0;31m         return self._input_request(str(prompt),\n\u001b[0m\u001b[1;32m    852\u001b[0m             \u001b[0mself\u001b[0m\u001b[0;34m.\u001b[0m\u001b[0m_parent_ident\u001b[0m\u001b[0;34m,\u001b[0m\u001b[0;34m\u001b[0m\u001b[0;34m\u001b[0m\u001b[0m\n\u001b[1;32m    853\u001b[0m             \u001b[0mself\u001b[0m\u001b[0;34m.\u001b[0m\u001b[0m_parent_header\u001b[0m\u001b[0;34m,\u001b[0m\u001b[0;34m\u001b[0m\u001b[0;34m\u001b[0m\u001b[0m\n",
            "\u001b[0;32m/usr/local/lib/python3.10/dist-packages/ipykernel/kernelbase.py\u001b[0m in \u001b[0;36m_input_request\u001b[0;34m(self, prompt, ident, parent, password)\u001b[0m\n\u001b[1;32m    893\u001b[0m             \u001b[0;32mexcept\u001b[0m \u001b[0mKeyboardInterrupt\u001b[0m\u001b[0;34m:\u001b[0m\u001b[0;34m\u001b[0m\u001b[0;34m\u001b[0m\u001b[0m\n\u001b[1;32m    894\u001b[0m                 \u001b[0;31m# re-raise KeyboardInterrupt, to truncate traceback\u001b[0m\u001b[0;34m\u001b[0m\u001b[0;34m\u001b[0m\u001b[0m\n\u001b[0;32m--> 895\u001b[0;31m                 \u001b[0;32mraise\u001b[0m \u001b[0mKeyboardInterrupt\u001b[0m\u001b[0;34m(\u001b[0m\u001b[0;34m\"Interrupted by user\"\u001b[0m\u001b[0;34m)\u001b[0m \u001b[0;32mfrom\u001b[0m \u001b[0;32mNone\u001b[0m\u001b[0;34m\u001b[0m\u001b[0;34m\u001b[0m\u001b[0m\n\u001b[0m\u001b[1;32m    896\u001b[0m             \u001b[0;32mexcept\u001b[0m \u001b[0mException\u001b[0m \u001b[0;32mas\u001b[0m \u001b[0me\u001b[0m\u001b[0;34m:\u001b[0m\u001b[0;34m\u001b[0m\u001b[0;34m\u001b[0m\u001b[0m\n\u001b[1;32m    897\u001b[0m                 \u001b[0mself\u001b[0m\u001b[0;34m.\u001b[0m\u001b[0mlog\u001b[0m\u001b[0;34m.\u001b[0m\u001b[0mwarning\u001b[0m\u001b[0;34m(\u001b[0m\u001b[0;34m\"Invalid Message:\"\u001b[0m\u001b[0;34m,\u001b[0m \u001b[0mexc_info\u001b[0m\u001b[0;34m=\u001b[0m\u001b[0;32mTrue\u001b[0m\u001b[0;34m)\u001b[0m\u001b[0;34m\u001b[0m\u001b[0;34m\u001b[0m\u001b[0m\n",
            "\u001b[0;31mKeyboardInterrupt\u001b[0m: Interrupted by user"
          ]
        }
      ],
      "source": [
        "# Create an empty list to store tasks\n",
        "tasks = []\n",
        "\n",
        "# Function to add a task\n",
        "def add_task():\n",
        "    task = input(\"Enter a new task: \")\n",
        "    tasks.append(task)\n",
        "\n",
        "# Function to display the to-do list\n",
        "def display_tasks():\n",
        "    if not tasks:\n",
        "        print(\"You have no tasks in your to-do list.\")\n",
        "    else:\n",
        "        print(\"Your to-do list:\")\n",
        "        for i, task in enumerate(tasks):\n",
        "            print(f\"{i+1}. [ ] {task}\")\n",
        "\n",
        "# Function to mark a task as done\n",
        "def mark_done():\n",
        "    display_tasks()\n",
        "    task_num = int(input(\"Enter the task number to mark as done: \"))\n",
        "\n",
        "    if 1 <= task_num <= len(tasks):\n",
        "        tasks[task_num - 1] = f\"[X] {tasks[task_num - 1]}\"\n",
        "\n",
        "# Function to clear the to-do list\n",
        "def clear_list():\n",
        "    confirmation = input(\"Are you sure you want to clear the entire to-do list? (yes/no): \")\n",
        "    if confirmation.lower() == \"yes\":\n",
        "        tasks.clear()\n",
        "        print(\"To-do list cleared.\")\n",
        "\n",
        "while True:\n",
        "    print(\"\\nOptions:\")\n",
        "    print(\"1. Add a task\")\n",
        "    print(\"2. Display tasks\")\n",
        "    print(\"3. Mark a task as done\")\n",
        "    print(\"4. Clear the to-do list\")\n",
        "    print(\"5. Exit\")\n",
        "\n",
        "    choice = input(\"Enter your choice (1/2/3/4/5): \")\n",
        "\n",
        "    if choice == \"1\":\n",
        "        add_task()\n",
        "    elif choice == \"2\":\n",
        "        display_tasks()\n",
        "    elif choice == \"3\":\n",
        "        mark_done()\n",
        "    elif choice == \"4\":\n",
        "        clear_list()\n",
        "    elif choice == \"5\":\n",
        "        break\n",
        "    else:\n",
        "        print(\"Invalid choice. Please choose a valid option (1/2/3/4/5).\")\n"
      ]
    }
  ]
}